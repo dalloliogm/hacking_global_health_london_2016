{
 "cells": [
  {
   "cell_type": "markdown",
   "metadata": {},
   "source": [
    "# Trajectory clustering with traj\n",
    "\n",
    "Example of clustering time trajectories / time series with traj"
   ]
  },
  {
   "cell_type": "code",
   "execution_count": 3,
   "metadata": {
    "collapsed": false
   },
   "outputs": [
    {
     "name": "stderr",
     "output_type": "stream",
     "text": [
      "Loading tidyverse: ggplot2\n",
      "Loading tidyverse: tibble\n",
      "Loading tidyverse: tidyr\n",
      "Loading tidyverse: readr\n",
      "Loading tidyverse: purrr\n",
      "Loading tidyverse: dplyr\n",
      "Conflicts with tidy packages ---------------------------------------------------\n",
      "filter(): dplyr, stats\n",
      "lag():    dplyr, stats\n",
      "Loading required package: lattice\n",
      "\n",
      "Attaching package: ‘caret’\n",
      "\n",
      "The following object is masked from ‘package:purrr’:\n",
      "\n",
      "    lift\n",
      "\n"
     ]
    },
    {
     "data": {
      "text/html": [
       "<table>\n",
       "<thead><tr><th scope=col>animal</th><th scope=col>gene</th><th scope=col>sex</th><th scope=col>zygosity</th><th scope=col>week</th><th scope=col>weight</th></tr></thead>\n",
       "<tbody>\n",
       "\t<tr><td>116489494</td><td>143      </td><td>1        </td><td>0        </td><td>4.000000 </td><td>17.0     </td></tr>\n",
       "\t<tr><td>116489494</td><td>143      </td><td>1        </td><td>0        </td><td>5.000000 </td><td>20.2     </td></tr>\n",
       "\t<tr><td>116489494</td><td>143      </td><td>1        </td><td>0        </td><td>6.000000 </td><td>22.1     </td></tr>\n",
       "\t<tr><td>116489494</td><td>143      </td><td>1        </td><td>0        </td><td>7.000000 </td><td>25.2     </td></tr>\n",
       "\t<tr><td>116489494</td><td>143      </td><td>1        </td><td>0        </td><td>7.428571 </td><td>25.4     </td></tr>\n",
       "\t<tr><td>116489494</td><td>143      </td><td>1        </td><td>0        </td><td>9.000000 </td><td>26.4     </td></tr>\n",
       "</tbody>\n",
       "</table>\n"
      ],
      "text/latex": [
       "\\begin{tabular}{r|llllll}\n",
       " animal & gene & sex & zygosity & week & weight\\\\\n",
       "\\hline\n",
       "\t 116489494 & 143       & 1         & 0         & 4.000000  & 17.0     \\\\\n",
       "\t 116489494 & 143       & 1         & 0         & 5.000000  & 20.2     \\\\\n",
       "\t 116489494 & 143       & 1         & 0         & 6.000000  & 22.1     \\\\\n",
       "\t 116489494 & 143       & 1         & 0         & 7.000000  & 25.2     \\\\\n",
       "\t 116489494 & 143       & 1         & 0         & 7.428571  & 25.4     \\\\\n",
       "\t 116489494 & 143       & 1         & 0         & 9.000000  & 26.4     \\\\\n",
       "\\end{tabular}\n"
      ],
      "text/plain": [
       "  animal    gene sex zygosity week     weight\n",
       "1 116489494 143  1   0        4.000000 17.0  \n",
       "2 116489494 143  1   0        5.000000 20.2  \n",
       "3 116489494 143  1   0        6.000000 22.1  \n",
       "4 116489494 143  1   0        7.000000 25.2  \n",
       "5 116489494 143  1   0        7.428571 25.4  \n",
       "6 116489494 143  1   0        9.000000 26.4  "
      ]
     },
     "metadata": {},
     "output_type": "display_data"
    }
   ],
   "source": [
    "library(tidyverse)\n",
    "library(caret)\n",
    "library(traj)\n",
    "\n",
    "mousephen = read.csv(\"datasets/mousephenotype/mousephenotypedata.csv\") %>% tbl_df\n",
    "mousephen %>% head"
   ]
  },
  {
   "cell_type": "code",
   "execution_count": 4,
   "metadata": {
    "collapsed": false
   },
   "outputs": [
    {
     "data": {},
     "metadata": {},
     "output_type": "display_data"
    },
    {
     "data": {
      "image/png": "[encoded data removed]",
      "text/plain": [
       "plot without title"
      ]
     },
     "metadata": {},
     "output_type": "display_data"
    }
   ],
   "source": [
    "mousephen %>% ggplot(aes(x=week, y=weigth, color=gene)) + \n",
    "    facet_wrap(~gene) +\n",
    "    geom_point()"
   ]
  },
  {
   "cell_type": "code",
   "execution_count": null,
   "metadata": {
    "collapsed": false
   },
   "outputs": [
    {
     "data": {
      "text/html": [
       "<ol class=list-inline>\n",
       "\t<li>2782</li>\n",
       "\t<li>313</li>\n",
       "</ol>\n"
      ],
      "text/latex": [
       "\\begin{enumerate*}\n",
       "\\item 2782\n",
       "\\item 313\n",
       "\\end{enumerate*}\n"
      ],
      "text/markdown": [
       "1. 2782\n",
       "2. 313\n",
       "\n",
       "\n"
      ],
      "text/plain": [
       "[1] 2782  313"
      ]
     },
     "metadata": {},
     "output_type": "display_data"
    }
   ],
   "source": [
    "mousephen = mousephen %>% group_by(gene) %>% mutate(measurementId = row_number())\n",
    "\n",
    "\n",
    "mousephen.weeks = mousephen %>%  spread(measurementId, week) %>% as.matrix\n",
    "mousephen.values = mousephen %>%  spread(measurementId, week) %>%  as.matrix\n",
    "dim(mousephen.values)\n",
    "s1 = step1measures(mousephen.weeks, mousephen.values)"
   ]
  },
  {
   "cell_type": "code",
   "execution_count": null,
   "metadata": {
    "collapsed": false
   },
   "outputs": [],
   "source": [
    "mousephen %>% group_by(animal) %>% \n",
    "    mutate(measurement.id = row_number) %>%\n",
    "select(animal, week, weight)  %>%\n",
    "count(animal, week)"
   ]
  }
 ],
 "metadata": {
  "kernelspec": {
   "display_name": "R",
   "language": "R",
   "name": "ir"
  },
  "language_info": {
   "codemirror_mode": "r",
   "file_extension": ".r",
   "mimetype": "text/x-r-source",
   "name": "R",
   "pygments_lexer": "r",
   "version": "3.3.1"
  }
 },
 "nbformat": 4,
 "nbformat_minor": 1
}
