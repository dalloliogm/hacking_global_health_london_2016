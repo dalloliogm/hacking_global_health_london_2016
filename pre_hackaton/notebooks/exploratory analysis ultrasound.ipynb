{
 "cells": [
  {
   "cell_type": "code",
   "execution_count": 5,
   "metadata": {
    "collapsed": false
   },
   "outputs": [],
   "source": [
    "library(tidyverse, quiet=T)\n",
    "library(caret, quiet=T)"
   ]
  },
  {
   "cell_type": "code",
   "execution_count": 14,
   "metadata": {
    "collapsed": false
   },
   "outputs": [
    {
     "data": {
      "text/html": [
       "<table>\n",
       "<thead><tr><th scope=col>STUDYID</th><th scope=col>SUBJID</th><th scope=col>SEXN</th><th scope=col>SEX</th><th scope=col>GAGEBRTH</th><th scope=col>BIRTHWT</th><th scope=col>BIRTHLEN</th><th scope=col>BIRTHHC</th><th scope=col>DELIVERY</th><th scope=col>PARITY</th><th scope=col>⋯</th><th scope=col>FLAZ</th><th scope=col>BHC_Z</th><th scope=col>BLEN_Z</th><th scope=col>BWT_Z</th><th scope=col>BWT_40</th><th scope=col>BLEN_40</th><th scope=col>BHC_40</th><th scope=col>LOG10.FWT.GM</th><th scope=col>WTKG.estimate</th><th scope=col>Study</th></tr></thead>\n",
       "<tbody>\n",
       "\t<tr><td>1           </td><td>1002        </td><td>2           </td><td>Female      </td><td>276         </td><td>3540        </td><td>50.3        </td><td>NA          </td><td>Category 2.0</td><td>1           </td><td>⋯           </td><td>2.142646    </td><td>NA          </td><td>0.8916001   </td><td> 0.8604704  </td><td>3.614882    </td><td>50.61003    </td><td>NA          </td><td>3.486183    </td><td> 3.063250   </td><td>Study 1     </td></tr>\n",
       "\t<tr><td>1           </td><td>1002        </td><td>2           </td><td>Female      </td><td>276         </td><td>3540        </td><td>50.3        </td><td>NA          </td><td>Category 2.0</td><td>1           </td><td>⋯           </td><td>      NA    </td><td>NA          </td><td>0.8916001   </td><td> 0.8604704  </td><td>3.614882    </td><td>50.61003    </td><td>NA          </td><td>      NA    </td><td> 3.540000   </td><td>Study 1     </td></tr>\n",
       "\t<tr><td>1           </td><td>1002        </td><td>2           </td><td>Female      </td><td>276         </td><td>3540        </td><td>50.3        </td><td>NA          </td><td>Category 2.0</td><td>1           </td><td>⋯           </td><td>      NA    </td><td>NA          </td><td>0.8916001   </td><td> 0.8604704  </td><td>3.614882    </td><td>50.61003    </td><td>NA          </td><td>      NA    </td><td>10.740000   </td><td>Study 1     </td></tr>\n",
       "\t<tr><td>1           </td><td>1003        </td><td>1           </td><td>Male        </td><td>280         </td><td>3100        </td><td>50.3        </td><td>NA          </td><td>Category 2.0</td><td>1           </td><td>⋯           </td><td>1.616571    </td><td>NA          </td><td>0.2352980   </td><td>-0.7255638  </td><td>3.100000    </td><td>50.30000    </td><td>NA          </td><td>3.233630    </td><td> 1.712499   </td><td>Study 1     </td></tr>\n",
       "\t<tr><td>1           </td><td>1003        </td><td>1           </td><td>Male        </td><td>280         </td><td>3100        </td><td>50.3        </td><td>NA          </td><td>Category 2.0</td><td>1           </td><td>⋯           </td><td>1.495569    </td><td>NA          </td><td>0.2352980   </td><td>-0.7255638  </td><td>3.100000    </td><td>50.30000    </td><td>NA          </td><td>3.233630    </td><td> 1.712499   </td><td>Study 1     </td></tr>\n",
       "\t<tr><td>1           </td><td>1003        </td><td>1           </td><td>Male        </td><td>280         </td><td>3100        </td><td>50.3        </td><td>NA          </td><td>Category 2.0</td><td>1           </td><td>⋯           </td><td>1.106900    </td><td>NA          </td><td>0.2352980   </td><td>-0.7255638  </td><td>3.100000    </td><td>50.30000    </td><td>NA          </td><td>3.419602    </td><td> 2.627857   </td><td>Study 1     </td></tr>\n",
       "</tbody>\n",
       "</table>\n"
      ],
      "text/latex": [
       "\\begin{tabular}{r|lllllllllllllllllllllllllllllllllllll}\n",
       " STUDYID & SUBJID & SEXN & SEX & GAGEBRTH & BIRTHWT & BIRTHLEN & BIRTHHC & DELIVERY & PARITY & ⋯ & FLAZ & BHC\\_Z & BLEN\\_Z & BWT\\_Z & BWT\\_40 & BLEN\\_40 & BHC\\_40 & LOG10.FWT.GM & WTKG.estimate & Study\\\\\n",
       "\\hline\n",
       "\t 1            & 1002         & 2            & Female       & 276          & 3540         & 50.3         & NA           & Category 2.0 & 1            & ⋯            & 2.142646     & NA           & 0.8916001    &  0.8604704   & 3.614882     & 50.61003     & NA           & 3.486183     &  3.063250    & Study 1     \\\\\n",
       "\t 1            & 1002         & 2            & Female       & 276          & 3540         & 50.3         & NA           & Category 2.0 & 1            & ⋯            &       NA     & NA           & 0.8916001    &  0.8604704   & 3.614882     & 50.61003     & NA           &       NA     &  3.540000    & Study 1     \\\\\n",
       "\t 1            & 1002         & 2            & Female       & 276          & 3540         & 50.3         & NA           & Category 2.0 & 1            & ⋯            &       NA     & NA           & 0.8916001    &  0.8604704   & 3.614882     & 50.61003     & NA           &       NA     & 10.740000    & Study 1     \\\\\n",
       "\t 1            & 1003         & 1            & Male         & 280          & 3100         & 50.3         & NA           & Category 2.0 & 1            & ⋯            & 1.616571     & NA           & 0.2352980    & -0.7255638   & 3.100000     & 50.30000     & NA           & 3.233630     &  1.712499    & Study 1     \\\\\n",
       "\t 1            & 1003         & 1            & Male         & 280          & 3100         & 50.3         & NA           & Category 2.0 & 1            & ⋯            & 1.495569     & NA           & 0.2352980    & -0.7255638   & 3.100000     & 50.30000     & NA           & 3.233630     &  1.712499    & Study 1     \\\\\n",
       "\t 1            & 1003         & 1            & Male         & 280          & 3100         & 50.3         & NA           & Category 2.0 & 1            & ⋯            & 1.106900     & NA           & 0.2352980    & -0.7255638   & 3.100000     & 50.30000     & NA           & 3.419602     &  2.627857    & Study 1     \\\\\n",
       "\\end{tabular}\n"
      ],
      "text/plain": [
       "  STUDYID SUBJID SEXN SEX    GAGEBRTH BIRTHWT BIRTHLEN BIRTHHC DELIVERY    \n",
       "1 1       1002   2    Female 276      3540    50.3     NA      Category 2.0\n",
       "2 1       1002   2    Female 276      3540    50.3     NA      Category 2.0\n",
       "3 1       1002   2    Female 276      3540    50.3     NA      Category 2.0\n",
       "4 1       1003   1    Male   280      3100    50.3     NA      Category 2.0\n",
       "5 1       1003   1    Male   280      3100    50.3     NA      Category 2.0\n",
       "6 1       1003   1    Male   280      3100    50.3     NA      Category 2.0\n",
       "  PARITY ⋯ FLAZ     BHC_Z BLEN_Z    BWT_Z      BWT_40   BLEN_40  BHC_40\n",
       "1 1      ⋯ 2.142646 NA    0.8916001  0.8604704 3.614882 50.61003 NA    \n",
       "2 1      ⋯       NA NA    0.8916001  0.8604704 3.614882 50.61003 NA    \n",
       "3 1      ⋯       NA NA    0.8916001  0.8604704 3.614882 50.61003 NA    \n",
       "4 1      ⋯ 1.616571 NA    0.2352980 -0.7255638 3.100000 50.30000 NA    \n",
       "5 1      ⋯ 1.495569 NA    0.2352980 -0.7255638 3.100000 50.30000 NA    \n",
       "6 1      ⋯ 1.106900 NA    0.2352980 -0.7255638 3.100000 50.30000 NA    \n",
       "  LOG10.FWT.GM WTKG.estimate Study  \n",
       "1 3.486183      3.063250     Study 1\n",
       "2       NA      3.540000     Study 1\n",
       "3       NA     10.740000     Study 1\n",
       "4 3.233630      1.712499     Study 1\n",
       "5 3.233630      1.712499     Study 1\n",
       "6 3.419602      2.627857     Study 1"
      ]
     },
     "metadata": {},
     "output_type": "display_data"
    },
    {
     "name": "stdout",
     "output_type": "stream",
     "text": [
      "Total number of unique entries per column:\n"
     ]
    },
    {
     "data": {
      "text/html": [
       "<table>\n",
       "<thead><tr><th scope=col>STUDYID</th><th scope=col>SUBJID</th><th scope=col>SEXN</th><th scope=col>SEX</th><th scope=col>GAGEBRTH</th><th scope=col>BIRTHWT</th><th scope=col>BIRTHLEN</th><th scope=col>BIRTHHC</th><th scope=col>DELIVERY</th><th scope=col>PARITY</th><th scope=col>⋯</th><th scope=col>FLAZ</th><th scope=col>BHC_Z</th><th scope=col>BLEN_Z</th><th scope=col>BWT_Z</th><th scope=col>BWT_40</th><th scope=col>BLEN_40</th><th scope=col>BHC_40</th><th scope=col>LOG10.FWT.GM</th><th scope=col>WTKG.estimate</th><th scope=col>Study</th></tr></thead>\n",
       "<tbody>\n",
       "\t<tr><td>2   </td><td>2525</td><td>2   </td><td>2   </td><td>61  </td><td>229 </td><td>92  </td><td>40  </td><td>7   </td><td>8   </td><td>⋯   </td><td>1656</td><td>193 </td><td>717 </td><td>1973</td><td>1932</td><td>710 </td><td>185 </td><td>6777</td><td>7217</td><td>2   </td></tr>\n",
       "</tbody>\n",
       "</table>\n"
      ],
      "text/latex": [
       "\\begin{tabular}{r|lllllllllllllllllllllllllllllllllllll}\n",
       " STUDYID & SUBJID & SEXN & SEX & GAGEBRTH & BIRTHWT & BIRTHLEN & BIRTHHC & DELIVERY & PARITY & ⋯ & FLAZ & BHC\\_Z & BLEN\\_Z & BWT\\_Z & BWT\\_40 & BLEN\\_40 & BHC\\_40 & LOG10.FWT.GM & WTKG.estimate & Study\\\\\n",
       "\\hline\n",
       "\t 2    & 2525 & 2    & 2    & 61   & 229  & 92   & 40   & 7    & 8    & ⋯    & 1656 & 193  & 717  & 1973 & 1932 & 710  & 185  & 6777 & 7217 & 2   \\\\\n",
       "\\end{tabular}\n"
      ],
      "text/plain": [
       "  STUDYID SUBJID SEXN SEX GAGEBRTH BIRTHWT BIRTHLEN BIRTHHC DELIVERY PARITY ⋯\n",
       "1 2       2525   2    2   61       229     92       40      7        8      ⋯\n",
       "  FLAZ BHC_Z BLEN_Z BWT_Z BWT_40 BLEN_40 BHC_40 LOG10.FWT.GM WTKG.estimate\n",
       "1 1656 193   717    1973  1932   710     185    6777         7217         \n",
       "  Study\n",
       "1 2    "
      ]
     },
     "metadata": {},
     "output_type": "display_data"
    },
    {
     "name": "stdout",
     "output_type": "stream",
     "text": [
      "Distribution of measurements by subject"
     ]
    },
    {
     "data": {
      "text/html": [
       "<table>\n",
       "<tbody>\n",
       "\t<tr><th scope=row>tot</th><td> 1 </td><td>  3</td><td>  4</td><td>  5</td><td>  6</td><td> 7 </td><td>  8</td><td>  9</td><td> 10</td><td> 11</td><td>12 </td><td>13 </td><td>14 </td><td>15 </td></tr>\n",
       "\t<tr><th scope=row>nn</th><td>34 </td><td>220</td><td>449</td><td>469</td><td>231</td><td>97 </td><td>116</td><td>220</td><td>250</td><td>292</td><td>84 </td><td>46 </td><td>11 </td><td> 6 </td></tr>\n",
       "</tbody>\n",
       "</table>\n"
      ],
      "text/latex": [
       "\\begin{tabular}{r|llllllllllllll}\n",
       "\ttot &  1  &   3 &   4 &   5 &   6 &  7  &   8 &   9 &  10 &  11 & 12  & 13  & 14  & 15 \\\\\n",
       "\tnn & 34  & 220 & 449 & 469 & 231 & 97  & 116 & 220 & 250 & 292 & 84  & 46  & 11  &  6 \\\\\n",
       "\\end{tabular}\n"
      ],
      "text/markdown": [
       "1. 1\n",
       "2. 34\n",
       "3. 3\n",
       "4. 220\n",
       "5. 4\n",
       "6. 449\n",
       "7. 5\n",
       "8. 469\n",
       "9. 6\n",
       "10. 231\n",
       "11. 7\n",
       "12. 97\n",
       "13. 8\n",
       "14. 116\n",
       "15. 9\n",
       "16. 220\n",
       "17. 10\n",
       "18. 250\n",
       "19. 11\n",
       "20. 292\n",
       "21. 12\n",
       "22. 84\n",
       "23. 13\n",
       "24. 46\n",
       "25. 14\n",
       "26. 11\n",
       "27. 15\n",
       "28. 6\n",
       "\n",
       "\n"
      ],
      "text/plain": [
       "    [,1] [,2] [,3] [,4] [,5] [,6] [,7] [,8] [,9] [,10] [,11] [,12] [,13] [,14]\n",
       "tot  1     3    4    5    6   7     8    9   10   11   12    13    14    15   \n",
       "nn  34   220  449  469  231  97   116  220  250  292   84    46    11     6   "
      ]
     },
     "metadata": {},
     "output_type": "display_data"
    }
   ],
   "source": [
    "dat0 <- read.csv(\"../datasets/Ultrasound/training_ultrasound.csv\")\n",
    "\n",
    "# Use Hadlok equation to estimate fetal weight from the 4 key ultrasound measurements\n",
    "dat.raw = dat0 %>%\n",
    "    mutate(\n",
    "        LOG10.FWT.GM = 1.3596 + 0.0064*HCIRCM + 0.0424*ABCIRCM + 0.174*FEMURCM + 0.00061*BPDCM*ABCIRCM - 0.00386*ABCIRCM*FEMURCM,\n",
    "        WTKG.estimate = ifelse(AGEDAYS<1 ,(10^LOG10.FWT.GM)/1000 ,WTKG) ,\n",
    "        Study = paste('Study', STUDYID)\n",
    "        )\n",
    "\n",
    "head(dat.raw)\n",
    "cat(\"Total number of unique entries per column:\\n\")\n",
    "dat.raw %>% summarise_each(funs(n_distinct(.)))\n",
    "\n",
    "\n",
    "cat(\"Distribution of measurements by subject\")\n",
    "dat.raw %>% count(SUBJID) %>% mutate(tot=n) %>% count(tot) %>% t"
   ]
  },
  {
   "cell_type": "markdown",
   "metadata": {},
   "source": [
    "# Data preparation and cleaning\n",
    "\n",
    "Procedure:\n",
    "\n",
    "- remove all samples with only one measurement\n",
    "- These attributes seem to be related to size: \n",
    "    - ABCIRCM (Abdominal Circumference)\n",
    "    - HCIRCM (Head Circumference)\n",
    "    - BPDCM (Biparietal diameter)\n",
    "    - FEMURCM (Femur Length)\n",
    "    \n",
    "    "
   ]
  },
  {
   "cell_type": "code",
   "execution_count": 34,
   "metadata": {
    "collapsed": false
   },
   "outputs": [
    {
     "data": {
      "text/plain": [
       "Created from 7940 samples and 4 variables\n",
       "\n",
       "Pre-processing:\n",
       "  - centered (4)\n",
       "  - ignored (0)\n",
       "  - 5 nearest neighbor imputation (4)\n",
       "  - principal component signal extraction (4)\n",
       "  - scaled (4)\n",
       "\n",
       "PCA needed 2 components to capture 95 percent of the variance"
      ]
     },
     "metadata": {},
     "output_type": "display_data"
    }
   ],
   "source": [
    "# clean data, remove samples with only one observation\n",
    "\n",
    "dat = dat %>% group_by(SUBJID) %>%\n",
    "    mutate(tot.measurements = n()) %>%\n",
    "    filter(tot.measurements >1)\n",
    "\n",
    "dat.preproc = dat %>% \n",
    "    ungroup %>% \n",
    "    select(ABCIRCM, HCIRCM, BPDCM, FEMURCM) %>% \n",
    "    mutate_each(funs(as.numeric(.))) %>%\n",
    "    preProcess(., method=c(\"center\", \"scale\", \"knnImpute\", \"pca\"))\n",
    "\n",
    "#    preProcess(., method=c(\"center\", \"scale\", \"knnImpute\", \"YeoJohnson\", \"pca\"))\n",
    "\n",
    "dat.preproc"
   ]
  },
  {
   "cell_type": "code",
   "execution_count": 35,
   "metadata": {
    "collapsed": false
   },
   "outputs": [
    {
     "data": {
      "text/html": [
       "<table>\n",
       "<thead><tr><th></th><th scope=col>PC1</th><th scope=col>PC2</th></tr></thead>\n",
       "<tbody>\n",
       "\t<tr><th scope=row>ABCIRCM</th><td>-0.4988103</td><td>-0.7221488</td></tr>\n",
       "\t<tr><th scope=row>HCIRCM</th><td>-0.5010410</td><td> 0.3786742</td></tr>\n",
       "\t<tr><th scope=row>BPDCM</th><td>-0.5001775</td><td> 0.5425691</td></tr>\n",
       "\t<tr><th scope=row>FEMURCM</th><td>-0.4999687</td><td>-0.2018064</td></tr>\n",
       "</tbody>\n",
       "</table>\n"
      ],
      "text/latex": [
       "\\begin{tabular}{r|ll}\n",
       "  & PC1 & PC2\\\\\n",
       "\\hline\n",
       "\tABCIRCM & -0.4988103 & -0.7221488\\\\\n",
       "\tHCIRCM & -0.5010410 &  0.3786742\\\\\n",
       "\tBPDCM & -0.5001775 &  0.5425691\\\\\n",
       "\tFEMURCM & -0.4999687 & -0.2018064\\\\\n",
       "\\end{tabular}\n"
      ],
      "text/markdown": [
       "1. -0.498810282933854\n",
       "2. -0.501040955705774\n",
       "3. -0.500177535490975\n",
       "4. -0.499968694355024\n",
       "5. -0.722148762163878\n",
       "6. 0.378674174899572\n",
       "7. 0.542569069711952\n",
       "8. -0.20180643984079\n",
       "\n",
       "\n"
      ],
      "text/plain": [
       "        PC1        PC2       \n",
       "ABCIRCM -0.4988103 -0.7221488\n",
       "HCIRCM  -0.5010410  0.3786742\n",
       "BPDCM   -0.5001775  0.5425691\n",
       "FEMURCM -0.4999687 -0.2018064"
      ]
     },
     "metadata": {},
     "output_type": "display_data"
    }
   ],
   "source": [
    "dat.preproc$rotation\n"
   ]
  }
 ],
 "metadata": {
  "kernelspec": {
   "display_name": "R",
   "language": "R",
   "name": "ir"
  },
  "language_info": {
   "codemirror_mode": "r",
   "file_extension": ".r",
   "mimetype": "text/x-r-source",
   "name": "R",
   "pygments_lexer": "r",
   "version": "3.3.1"
  }
 },
 "nbformat": 4,
 "nbformat_minor": 1
}
